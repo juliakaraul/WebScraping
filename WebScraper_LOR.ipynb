{
 "cells": [
  {
   "cell_type": "code",
   "execution_count": 1,
   "id": "b0a13377-f22d-4751-9e1d-c7c08f85f28c",
   "metadata": {},
   "outputs": [],
   "source": [
    "# import libraries \n",
    "\n",
    "from bs4 import BeautifulSoup\n",
    "import requests\n",
    "import time\n",
    "import datetime\n",
    "import smtplib"
   ]
  },
  {
   "cell_type": "code",
   "execution_count": 2,
   "id": "0c5ffd9c-2ec3-40f1-98b8-6f33d0fb9cae",
   "metadata": {},
   "outputs": [
    {
     "name": "stdout",
     "output_type": "stream",
     "text": [
      "\n",
      "             The History of Middle-earth (Boxed Set 1): The Silmarillion, Unfinished Tales, the Book of Lost Tales, Part One & Part Two: Book 1\n",
      "            \n",
      "\n",
      "                            € 108,95\n",
      "                           \n"
     ]
    }
   ],
   "source": [
    "# Connect to Website\n",
    "\n",
    "URL = 'https://www.amazon.nl/History-Middle-earth-Boxed-Set-Silmarillion/dp/0008663165/ref=sr_1_1?__mk_nl_NL=%C3%85M%C3%85%C5%BD%C3%95%C3%91&dib=eyJ2IjoiMSJ9.bXf98fTjpZ9J7cQ2TTxI1SL9dPxt8DN_OM8OOLDDZYlDacmr2NSKsrvu6WYtJONRMhN-6OTWEZ2mV6HlfgH1Z4xaNSjiGWTzrInDQKLrmNDEjQWyQv01TZzXqyWbUdd7xxJx9x9P-Np8SyOMV20pxklzAu_Ixr62aU_W3wcCJwY13o_j65Oy1y6EeSBc2ynQjdrx9PAQzUkS6ZXsYuD0TX_ID4SuD_52Osb6bYBz5eo.oG9WbbjNRDlkdd6ufcflaU6myU5sksAYKyY4U8RzVKw&dib_tag=se&keywords=tolkien&qid=1711445936&refinements=p_n_condition-type%3A17170958031&rnid=17170747031&s=books&sr=1-1'\n",
    "headers = {\"User-Agent\": \"Mozilla/5.0 (Windows NT 10.0; Win64; x64) AppleWebKit/537.36 (KHTML, like Gecko) Chrome/122.0.0.0 Safari/537.36\", \"Accept-Encoding\":\"gzip, deflate\", \"Accept\":\"text/html,application/xhtml+xml,application/xml;q=0.9,*/*;q=0.8\", \"DNT\":\"1\",\"Connection\":\"close\", \"Upgrade-Insecure-Requests\":\"1\"}\n",
    "page = requests.get(URL, headers=headers)\n",
    "\n",
    "# Pull in data\n",
    "\n",
    "soup1 = BeautifulSoup(page.content, \"html.parser\")\n",
    "soup2 = BeautifulSoup(soup1.prettify(), \"html.parser\")\n",
    "title = soup2.find(id='productTitle').get_text()\n",
    "price = soup2.find(id='price').get_text()\n",
    "\n",
    "print(title)\n",
    "print(price)"
   ]
  },
  {
   "cell_type": "code",
   "execution_count": 3,
   "id": "66be9424-7cb1-4115-9c97-197f4ac01988",
   "metadata": {},
   "outputs": [
    {
     "name": "stdout",
     "output_type": "stream",
     "text": [
      "The History of Middle-earth (Boxed Set 1): The Silmarillion, Unfinished Tales, the Book of Lost Tales, Part One & Part Two: Book 1\n",
      "108\n"
     ]
    }
   ],
   "source": [
    "# Clean up the data a little bit\n",
    "\n",
    "price = price.strip() [2:-3]\n",
    "title = title.strip()\n",
    "\n",
    "print(title)\n",
    "print(price)"
   ]
  },
  {
   "cell_type": "code",
   "execution_count": 4,
   "id": "77cfa667-7e16-4f77-9764-dc24ba861639",
   "metadata": {},
   "outputs": [
    {
     "name": "stdout",
     "output_type": "stream",
     "text": [
      "2024-03-26\n"
     ]
    }
   ],
   "source": [
    "# Create a Timestamp for your output to track when data was collected\n",
    "\n",
    "import datetime\n",
    "\n",
    "today = datetime.date.today()\n",
    "\n",
    "print(today)"
   ]
  },
  {
   "cell_type": "code",
   "execution_count": 5,
   "id": "eb0d27f5-69c9-4efc-b751-35e666b4dfb5",
   "metadata": {},
   "outputs": [
    {
     "name": "stdout",
     "output_type": "stream",
     "text": [
      "                                               Title  Price        Date\n",
      "0  The History of Middle-earth (Boxed Set 1): The...    108  2024-03-26\n"
     ]
    }
   ],
   "source": [
    "# Create CSV and write headers and data into the file\n",
    "\n",
    "import csv \n",
    "\n",
    "header = ['Title', 'Price', 'Date']\n",
    "data = [title, price, today]\n",
    "\n",
    "with open('AmazonWebScraperDataset_LOR.csv', 'w', newline='', encoding='UTF8') as f:\n",
    "    writer = csv.writer(f)\n",
    "    writer.writerow(header)\n",
    "    writer.writerow(data)\n",
    "    \n",
    "import pandas as pd\n",
    "\n",
    "df = pd.read_csv(r'C:\\Users\\julia\\AmazonWebScraperDataset_LOR.csv')\n",
    "\n",
    "print(df)"
   ]
  },
  {
   "cell_type": "code",
   "execution_count": 6,
   "id": "e8bd3219-2042-42ed-9dd6-efb6ac88affb",
   "metadata": {},
   "outputs": [],
   "source": [
    "#Now we are appending data to the csv\n",
    "\n",
    "with open('AmazonWebScraperDataset_LOR.csv', 'a+', newline='', encoding='UTF8') as f:\n",
    "    writer = csv.writer(f)\n",
    "    writer.writerow(data)"
   ]
  },
  {
   "cell_type": "code",
   "execution_count": 7,
   "id": "39d347d9-2c5f-44a8-8c0e-041ac48ebd4e",
   "metadata": {},
   "outputs": [],
   "source": [
    "#All of the above code combined in one function\n",
    "\n",
    "def check_price():\n",
    "    URL = 'https://www.amazon.nl/History-Middle-earth-Boxed-Set-Silmarillion/dp/0008663165/ref=sr_1_1?__mk_nl_NL=%C3%85M%C3%85%C5%BD%C3%95%C3%91&dib=eyJ2IjoiMSJ9.bXf98fTjpZ9J7cQ2TTxI1SL9dPxt8DN_OM8OOLDDZYlDacmr2NSKsrvu6WYtJONRMhN-6OTWEZ2mV6HlfgH1Z4xaNSjiGWTzrInDQKLrmNDEjQWyQv01TZzXqyWbUdd7xxJx9x9P-Np8SyOMV20pxklzAu_Ixr62aU_W3wcCJwY13o_j65Oy1y6EeSBc2ynQjdrx9PAQzUkS6ZXsYuD0TX_ID4SuD_52Osb6bYBz5eo.oG9WbbjNRDlkdd6ufcflaU6myU5sksAYKyY4U8RzVKw&dib_tag=se&keywords=tolkien&qid=1711445936&refinements=p_n_condition-type%3A17170958031&rnid=17170747031&s=books&sr=1-1'\n",
    "    headers = {\"User-Agent\": \"Mozilla/5.0 (Windows NT 10.0; Win64; x64) AppleWebKit/537.36 (KHTML, like Gecko) Chrome/78.0.3904.108 Safari/537.36\", \"Accept-Encoding\":\"gzip, deflate\", \"Accept\":\"text/html,application/xhtml+xml,application/xml;q=0.9,*/*;q=0.8\", \"DNT\":\"1\",\"Connection\":\"close\", \"Upgrade-Insecure-Requests\":\"1\"}\n",
    "\n",
    "    page = requests.get(URL, headers=headers)\n",
    "    soup1 = BeautifulSoup(page.content, \"html.parser\")\n",
    "    soup2 = BeautifulSoup(soup1.prettify(), \"html.parser\")\n",
    "    title = soup2.find(id='productTitle').get_text()\n",
    "    price = soup2.find(id='price').get_text()\n",
    "    price = price.strip()[2:-3]\n",
    "    title = title.strip()\n",
    "    \n",
    "    # Create a Timestamp for the output to track when data was collected\n",
    "    \n",
    "    import datetime\n",
    "\n",
    "    today = datetime.date.today()\n",
    "    \n",
    "    # Write headers and data into the csv file\n",
    "\n",
    "    import csv \n",
    "\n",
    "    header = ['Title', 'Price', 'Date']\n",
    "    data = [title, price, today]\n",
    "    \n",
    "    # Appending data to the csv\n",
    "    \n",
    "    with open('AmazonWebScraperDataset_LOR.csv', 'a+', newline='', encoding='UTF8') as f:\n",
    "        writer = csv.writer(f)\n",
    "        writer.writerow(data)\n",
    "  \n",
    "    # If statement for the price drop\n",
    "    \n",
    "    if (float(price) < 80):\n",
    "        send_mail()"
   ]
  },
  {
   "cell_type": "code",
   "execution_count": null,
   "id": "1d851c56-0502-4df8-8b8c-ccfeddd46008",
   "metadata": {},
   "outputs": [],
   "source": [
    "# Run check_price after a set time (every day) and input data into the CSV\n",
    "\n",
    "while(True):\n",
    "    check_price()\n",
    "    time.sleep(86400)\n",
    "import pandas as pd\n",
    "\n",
    "df = pd.read_csv(r'C:\\Users\\julia\\AmazonWebScraperDataset_LOR.csv')\n",
    "\n",
    "print(df)\n"
   ]
  },
  {
   "cell_type": "code",
   "execution_count": null,
   "id": "7c2a1bd2-33dd-4757-8de1-a9f4a43b55a1",
   "metadata": {},
   "outputs": [],
   "source": [
    "# Sending an email when a price hits below a certain level\n",
    "\n",
    "def send_mail():\n",
    "    server = smtplib.SMTP_SSL('smtp.gmail.com',465)\n",
    "    server.ehlo()\n",
    "    server.ehlo()\n",
    "    server.login('julia.karauln@gmail.com','Jonghyun97!')\n",
    "    \n",
    "    subject = \"Alert on the LOR book set price drop below $80!\"\n",
    "    body = \"Now is the time to pick up the The History of Middle-earth book set. Follow the link here: https://www.amazon.nl/History-Middle-earth-Boxed-Set-Silmarillion/dp/0008663165/ref=sr_1_1?__mk_nl_NL=%C3%85M%C3%85%C5%BD%C3%95%C3%91&dib=eyJ2IjoiMSJ9.bXf98fTjpZ9J7cQ2TTxI1SL9dPxt8DN_OM8OOLDDZYlDacmr2NSKsrvu6WYtJONRMhN-6OTWEZ2mV6HlfgH1Z4xaNSjiGWTzrInDQKLrmNDEjQWyQv01TZzXqyWbUdd7xxJx9x9P-Np8SyOMV20pxklzAu_Ixr62aU_W3wcCJwY13o_j65Oy1y6EeSBc2ynQjdrx9PAQzUkS6ZXsYuD0TX_ID4SuD_52Osb6bYBz5eo.oG9WbbjNRDlkdd6ufcflaU6myU5sksAYKyY4U8RzVKw&dib_tag=se&keywords=tolkien&qid=1711445936&refinements=p_n_condition-type%3A17170958031&rnid=17170747031&s=books&sr=1-1\"\n",
    "   \n",
    "    msg = f\"Subject: {subject}\\n\\n{body}\"\n",
    "    \n",
    "    server.sendmail(\n",
    "        'julia.karauln@gmail.com',\n",
    "        msg \n",
    "    )"
   ]
  },
  {
   "cell_type": "code",
   "execution_count": null,
   "id": "839cd4a8-cc68-4d48-94e3-4bd9189b6597",
   "metadata": {},
   "outputs": [],
   "source": []
  }
 ],
 "metadata": {
  "kernelspec": {
   "display_name": "Python 3 (ipykernel)",
   "language": "python",
   "name": "python3"
  },
  "language_info": {
   "codemirror_mode": {
    "name": "ipython",
    "version": 3
   },
   "file_extension": ".py",
   "mimetype": "text/x-python",
   "name": "python",
   "nbconvert_exporter": "python",
   "pygments_lexer": "ipython3",
   "version": "3.11.7"
  }
 },
 "nbformat": 4,
 "nbformat_minor": 5
}
